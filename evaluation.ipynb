{
 "cells": [
  {
   "cell_type": "markdown",
   "metadata": {},
   "source": [
    "# Desafio Creditas - Data Science: Avaliação de Modelos\n",
    "\n",
    "---\n",
    "\n",
    "Predição da probabilidade que um cliente tem de ser enviado para análise de crédito dado que ele foi pré-aprovado para o empréstimo com garantia de automóvel."
   ]
  },
  {
   "cell_type": "markdown",
   "metadata": {
    "toc": true
   },
   "source": [
    "<h1>Table of Contents<span class=\"tocSkip\"></span></h1>\n",
    "<div class=\"toc\"><ul class=\"toc-item\"><li><span><a href=\"#Seleção-de-Modelos\" data-toc-modified-id=\"Seleção-de-Modelos-1\"><span class=\"toc-item-num\">1&nbsp;&nbsp;</span>Seleção de Modelos</a></span><ul class=\"toc-item\"><li><span><a href=\"#Objetivo:\" data-toc-modified-id=\"Objetivo:-1.1\"><span class=\"toc-item-num\">1.1&nbsp;&nbsp;</span>Objetivo:</a></span></li><li><span><a href=\"#Modelos-de-Classificação-Escolhidos-para-teste:\" data-toc-modified-id=\"Modelos-de-Classificação-Escolhidos-para-teste:-1.2\"><span class=\"toc-item-num\">1.2&nbsp;&nbsp;</span>Modelos de Classificação Escolhidos para teste:</a></span></li></ul></li></ul></div>"
   ]
  },
  {
   "cell_type": "markdown",
   "metadata": {},
   "source": [
    "## Seleção de Modelos\n",
    "\n",
    "### Objetivo:\n",
    "\n",
    "Encontrar o modelo mais adequado, baseado em métricas de desempenho, para abordar o problema proposto. \n",
    "\n",
    "### Modelos de Classificação Escolhidos para teste:\n",
    "- Randon Forest;\n",
    "- Suport Vector Machines;\n",
    "- Gradient Boost;\n",
    "- Multilayer Perceptron Classifier.\n",
    "\n"
   ]
  },
  {
   "cell_type": "code",
   "execution_count": null,
   "metadata": {},
   "outputs": [],
   "source": []
  },
  {
   "cell_type": "code",
   "execution_count": null,
   "metadata": {},
   "outputs": [],
   "source": []
  },
  {
   "cell_type": "code",
   "execution_count": null,
   "metadata": {},
   "outputs": [],
   "source": []
  }
 ],
 "metadata": {
  "hide_input": false,
  "kernelspec": {
   "display_name": "default_env_3.7.1",
   "language": "python",
   "name": "default_env_3.7.1"
  },
  "language_info": {
   "codemirror_mode": {
    "name": "ipython",
    "version": 3
   },
   "file_extension": ".py",
   "mimetype": "text/x-python",
   "name": "python",
   "nbconvert_exporter": "python",
   "pygments_lexer": "ipython3",
   "version": "3.7.1"
  },
  "toc": {
   "base_numbering": 1,
   "nav_menu": {},
   "number_sections": true,
   "sideBar": true,
   "skip_h1_title": true,
   "title_cell": "Table of Contents",
   "title_sidebar": "Contents",
   "toc_cell": true,
   "toc_position": {},
   "toc_section_display": true,
   "toc_window_display": false
  },
  "varInspector": {
   "cols": {
    "lenName": 16,
    "lenType": 16,
    "lenVar": 40
   },
   "kernels_config": {
    "python": {
     "delete_cmd_postfix": "",
     "delete_cmd_prefix": "del ",
     "library": "var_list.py",
     "varRefreshCmd": "print(var_dic_list())"
    },
    "r": {
     "delete_cmd_postfix": ") ",
     "delete_cmd_prefix": "rm(",
     "library": "var_list.r",
     "varRefreshCmd": "cat(var_dic_list()) "
    }
   },
   "types_to_exclude": [
    "module",
    "function",
    "builtin_function_or_method",
    "instance",
    "_Feature"
   ],
   "window_display": false
  }
 },
 "nbformat": 4,
 "nbformat_minor": 2
}
