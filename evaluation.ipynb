{
 "cells": [
  {
   "cell_type": "markdown",
   "metadata": {},
   "source": [
    "# Desafio Creditas - Data Science: Avaliação de Modelos\n",
    "\n",
    "---\n",
    "\n",
    "Predição da probabilidade que um cliente tem de ser enviado para análise de crédito dado que ele foi pré-aprovado para o empréstimo com garantia de automóvel."
   ]
  },
  {
   "cell_type": "markdown",
   "metadata": {
    "toc": true
   },
   "source": [
    "<h1>Table of Contents<span class=\"tocSkip\"></span></h1>\n",
    "<div class=\"toc\"><ul class=\"toc-item\"><li><span><a href=\"#Carregando-dados-já-tratados\" data-toc-modified-id=\"Carregando-dados-já-tratados-1\"><span class=\"toc-item-num\">1&nbsp;&nbsp;</span>Carregando dados já tratados</a></span><ul class=\"toc-item\"><li><span><a href=\"#Execução-do-Pipeline-de-Modelagem-até-a-geração-de-novas-features\" data-toc-modified-id=\"Execução-do-Pipeline-de-Modelagem-até-a-geração-de-novas-features-1.1\"><span class=\"toc-item-num\">1.1&nbsp;&nbsp;</span>Execução do Pipeline de Modelagem até a geração de novas features</a></span></li><li><span><a href=\"#Carregamento-dos-dados-de-treinamento-e-teste\" data-toc-modified-id=\"Carregamento-dos-dados-de-treinamento-e-teste-1.2\"><span class=\"toc-item-num\">1.2&nbsp;&nbsp;</span>Carregamento dos dados de treinamento e teste</a></span></li></ul></li><li><span><a href=\"#Seleção-de-Modelos\" data-toc-modified-id=\"Seleção-de-Modelos-2\"><span class=\"toc-item-num\">2&nbsp;&nbsp;</span>Seleção de Modelos</a></span><ul class=\"toc-item\"><li><span><a href=\"#Objetivo:\" data-toc-modified-id=\"Objetivo:-2.1\"><span class=\"toc-item-num\">2.1&nbsp;&nbsp;</span>Objetivo:</a></span></li><li><span><a href=\"#Modelos-de-Classificação-Escolhidos-para-teste:\" data-toc-modified-id=\"Modelos-de-Classificação-Escolhidos-para-teste:-2.2\"><span class=\"toc-item-num\">2.2&nbsp;&nbsp;</span>Modelos de Classificação Escolhidos para teste:</a></span></li></ul></li><li><span><a href=\"#Avaliação-dos-Modelos\" data-toc-modified-id=\"Avaliação-dos-Modelos-3\"><span class=\"toc-item-num\">3&nbsp;&nbsp;</span>Avaliação dos Modelos</a></span><ul class=\"toc-item\"><li><span><a href=\"#Randon-Forest-Classifier\" data-toc-modified-id=\"Randon-Forest-Classifier-3.1\"><span class=\"toc-item-num\">3.1&nbsp;&nbsp;</span>Randon Forest Classifier</a></span></li><li><span><a href=\"#Gradient-Boost-Classifier\" data-toc-modified-id=\"Gradient-Boost-Classifier-3.2\"><span class=\"toc-item-num\">3.2&nbsp;&nbsp;</span>Gradient Boost Classifier</a></span></li><li><span><a href=\"#Multilayer-Perceptron-Classifier\" data-toc-modified-id=\"Multilayer-Perceptron-Classifier-3.3\"><span class=\"toc-item-num\">3.3&nbsp;&nbsp;</span>Multilayer Perceptron Classifier</a></span></li></ul></li><li><span><a href=\"#Curva-ROC\" data-toc-modified-id=\"Curva-ROC-4\"><span class=\"toc-item-num\">4&nbsp;&nbsp;</span>Curva ROC</a></span></li><li><span><a href=\"#Escolha-dos-Hiperparametros-do-Modelo\" data-toc-modified-id=\"Escolha-dos-Hiperparametros-do-Modelo-5\"><span class=\"toc-item-num\">5&nbsp;&nbsp;</span>Escolha dos Hiperparametros do Modelo</a></span><ul class=\"toc-item\"><li><span><a href=\"#Complexidade-do-Modelo\" data-toc-modified-id=\"Complexidade-do-Modelo-5.1\"><span class=\"toc-item-num\">5.1&nbsp;&nbsp;</span>Complexidade do Modelo</a></span></li></ul></li><li><span><a href=\"#Outros-Detalhes\" data-toc-modified-id=\"Outros-Detalhes-6\"><span class=\"toc-item-num\">6&nbsp;&nbsp;</span>Outros Detalhes</a></span><ul class=\"toc-item\"><li><span><a href=\"#Tratamento-de-Outliers\" data-toc-modified-id=\"Tratamento-de-Outliers-6.1\"><span class=\"toc-item-num\">6.1&nbsp;&nbsp;</span>Tratamento de Outliers</a></span></li><li><span><a href=\"#Tratamento-de-Dados-Categóricos\" data-toc-modified-id=\"Tratamento-de-Dados-Categóricos-6.2\"><span class=\"toc-item-num\">6.2&nbsp;&nbsp;</span>Tratamento de Dados Categóricos</a></span></li><li><span><a href=\"#Geração-de-novas-características-a-partir-de-relações\" data-toc-modified-id=\"Geração-de-novas-características-a-partir-de-relações-6.3\"><span class=\"toc-item-num\">6.3&nbsp;&nbsp;</span>Geração de novas características a partir de relações</a></span></li><li><span><a href=\"#Seleção-das-melhores-features-para-o-modelo\" data-toc-modified-id=\"Seleção-das-melhores-features-para-o-modelo-6.4\"><span class=\"toc-item-num\">6.4&nbsp;&nbsp;</span>Seleção das melhores features para o modelo</a></span></li></ul></li></ul></div>"
   ]
  },
  {
   "cell_type": "markdown",
   "metadata": {},
   "source": [
    "## Carregando dados já tratados"
   ]
  },
  {
   "cell_type": "markdown",
   "metadata": {},
   "source": [
    "### Execução do Pipeline de Modelagem até a geração de novas features"
   ]
  },
  {
   "cell_type": "code",
   "execution_count": 1,
   "metadata": {},
   "outputs": [],
   "source": [
    "%run scripts/load_data.py\n",
    "%run scripts/preprocessing.py\n",
    "%run scripts/feature_generation.py"
   ]
  },
  {
   "cell_type": "markdown",
   "metadata": {},
   "source": [
    "### Carregamento dos dados de treinamento e teste\n",
    "\n",
    "Com os dados já tratados e separados pela execução do *pipeline*, basta importar os dados necessários para o teste dos modelos:\n",
    "\n",
    "- `X_train.pkl`: Features já préprocessadas, sem *outliers*, com dados já normalizados e binarizados (no caso de categorias);\n",
    "- `balanced_y_train.pkl`: Variável alvo com tratamento de dados desbalanceados;\n",
    "- `X_test.pkl`: Features selecionadas para teste do modelo;\n",
    "- `y_test.pkl`: Variável alvo, sem tratamento de dados desbalanceados, para teste do modelo.\n"
   ]
  },
  {
   "cell_type": "code",
   "execution_count": 2,
   "metadata": {},
   "outputs": [],
   "source": [
    "import pandas as pd\n",
    "from sklearn.externals import joblib\n",
    "\n",
    "X_train = joblib.load(\"model_files/X_train.pkl\")\n",
    "y_train = joblib.load(\"model_files/balanced_y_train.pkl\")\n",
    "X_test = joblib.load(\"model_files/X_test.pkl\")\n",
    "y_test = joblib.load(\"model_files/y_test.pkl\")\n"
   ]
  },
  {
   "cell_type": "markdown",
   "metadata": {},
   "source": [
    "## Seleção de Modelos\n",
    "\n",
    "### Objetivo:\n",
    "\n",
    "Encontrar o modelo mais adequado, baseado em métricas de desempenho, para abordar o problema proposto. \n",
    "\n",
    "### Modelos de Classificação Escolhidos para teste:\n",
    "- Randon Forest;\n",
    "- Gradient Boost;\n",
    "- Multilayer Perceptron Classifier.\n",
    "\n"
   ]
  },
  {
   "cell_type": "markdown",
   "metadata": {},
   "source": [
    "## Avaliação dos Modelos\n",
    "\n",
    "Aqui vamos realizar o treinamento e teste dos modelos citados, com parâmetros padrões, para avaliar as métricas de validação de todos. \n",
    "As métricas utilizadas são:\n",
    "\n",
    "- Validação Cruzada;\n",
    "- Matriz de Confusão (juntamente com as taxas de verdadeiros positivos, verdadeiros negativos, falsos positivos e falsos negativos);\n",
    "- Avaliação da Curva ROC e área sobre a curva ROC;\n",
    "\n",
    "E, para o modelo escolhido, será feito um estudo da **acurácia do modelo em função da complexidade** (número de features), afim de evitar *overfitting*. Para este modelo, também será feito uma avaliação da curva de aprendizado. \n"
   ]
  },
  {
   "cell_type": "code",
   "execution_count": 120,
   "metadata": {},
   "outputs": [],
   "source": [
    "from sklearn.model_selection import cross_val_score\n",
    "from sklearn.metrics import roc_curve, roc_auc_score, confusion_matrix\n",
    "import matplotlib.pyplot as plt\n",
    "import seaborn as sns\n"
   ]
  },
  {
   "cell_type": "markdown",
   "metadata": {},
   "source": [
    "### Randon Forest Classifier\n",
    "\n",
    "- Algorítmo do tipo *ensemble*: gera multiplos classificadores considerados \"fracos\" (no caso, arvores de decisão) e combina seus resultados, obtendo um classificador que apresenta maior acurácia do que cada árvore de decisão sozinha.\n"
   ]
  },
  {
   "cell_type": "code",
   "execution_count": 4,
   "metadata": {},
   "outputs": [
    {
     "name": "stderr",
     "output_type": "stream",
     "text": [
      "/Users/mbranbilla/.pyenv/versions/3.7.1/envs/default_env/lib/python3.7/site-packages/sklearn/ensemble/forest.py:246: FutureWarning: The default value of n_estimators will change from 10 in version 0.20 to 100 in 0.22.\n",
      "  \"10 in version 0.20 to 100 in 0.22.\", FutureWarning)\n"
     ]
    },
    {
     "name": "stdout",
     "output_type": "stream",
     "text": [
      "Accuracy: 0.91 (+/- 0.01)\n"
     ]
    }
   ],
   "source": [
    "from sklearn.ensemble import RandomForestClassifier\n",
    "\n",
    "rfc_model = RandomForestClassifier().fit(X_train, y_train)\n",
    "\n",
    "scores = cross_val_score(rfc_model, X_test, y_test, cv=5)\n",
    "print(\"Accuracy: %0.2f (+/- %0.2f)\" % (scores.mean(), scores.std() * 2))"
   ]
  },
  {
   "cell_type": "markdown",
   "metadata": {},
   "source": [
    "Para avaliar a distribuição das probabilidades das classes preditas, utiliza-se de um histograma."
   ]
  },
  {
   "cell_type": "code",
   "execution_count": 25,
   "metadata": {},
   "outputs": [
    {
     "data": {
      "text/plain": [
       "Text(0.5, 0, 'Probability')"
      ]
     },
     "execution_count": 25,
     "metadata": {},
     "output_type": "execute_result"
    },
    {
     "data": {
      "image/png": "[encoded data removed]",
      "text/plain": [
       "<Figure size 432x288 with 1 Axes>"
      ]
     },
     "metadata": {
      "needs_background": "light"
     },
     "output_type": "display_data"
    }
   ],
   "source": [
    "predict_prob = pd.DataFrame(rfc_model.predict_proba(X_test.values))\n",
    "\n",
    "predict_prob.iloc[:, 1].hist(bins=100)\n",
    "plt.title(\"Distribuction of Probabilities of Class=1 - RFC_Model\")\n",
    "plt.ylabel(\"Count\")\n",
    "plt.xlabel(\"Probability\")"
   ]
  },
  {
   "cell_type": "code",
   "execution_count": 108,
   "metadata": {},
   "outputs": [],
   "source": [
    "scores_rfc = pd.DataFrame(columns=[\"true_values\", \"predict_values\", \"scores\"])\n",
    "\n",
    "scores_rfc['true_values'] = y_test\n",
    "scores_rfc['predict_values'] = rfc_model.predict(X_test)\n",
    "scores_rfc[\"scores\"] = [x[1] for x in rfc_model.predict_proba(X_test)]\n",
    "\n",
    "fpr_rfc, tpr_rfc, thresholds_rfc = roc_curve(y_test, scores_rfc['scores'].values)\n",
    "\n",
    "auc_score_rfc = roc_auc_score(y_test, scores_rfc['scores'].values)"
   ]
  },
  {
   "cell_type": "markdown",
   "metadata": {},
   "source": [
    "### Gradient Boost Classifier\n",
    "\n",
    "Este classificador também é um método *ensemble*, ou seja, utiliza-se da combinação do resultado de um conjunto de classificadores mais simples. Porém, neste caso, o erro de um dos classificadores deste conjunto é ajustado pelo classificador anterior. Assim, este é um método que apresenta ótimos resultados (principalmente em competições do Kaggle), principalmente por ser bem robusto contra *overfitting*."
   ]
  },
  {
   "cell_type": "code",
   "execution_count": 109,
   "metadata": {},
   "outputs": [
    {
     "name": "stdout",
     "output_type": "stream",
     "text": [
      "Accuracy: 0.91 (+/- 0.01)\n"
     ]
    }
   ],
   "source": [
    "from sklearn.ensemble import GradientBoostingClassifier\n",
    "\n",
    "gbc_model = GradientBoostingClassifier().fit(X_train, y_train)\n",
    "\n",
    "scores = cross_val_score(gbc_model, X_test, y_test, cv=5)\n",
    "print(\"Accuracy: %0.2f (+/- %0.2f)\" % (scores.mean(), scores.std() * 2))"
   ]
  },
  {
   "cell_type": "markdown",
   "metadata": {},
   "source": [
    "#### Calculo da curva ROC e da área sob a curva ROC"
   ]
  },
  {
   "cell_type": "code",
   "execution_count": 110,
   "metadata": {
    "scrolled": true
   },
   "outputs": [
    {
     "data": {
      "text/plain": [
       "Text(0.5, 0, 'Probability')"
      ]
     },
     "execution_count": 110,
     "metadata": {},
     "output_type": "execute_result"
    },
    {
     "data": {
      "image/png": "[encoded data removed]",
      "text/plain": [
       "<Figure size 432x288 with 1 Axes>"
      ]
     },
     "metadata": {
      "needs_background": "light"
     },
     "output_type": "display_data"
    }
   ],
   "source": [
    "predict_prob = pd.DataFrame(gbc_model.predict_proba(X_test.values))\n",
    "\n",
    "predict_prob.iloc[:, 1].hist(bins=100)\n",
    "plt.title(\"Distribuction of Probabilities of Class=1 - GBC_Model\")\n",
    "plt.ylabel(\"Count\")\n",
    "plt.xlabel(\"Probability\")"
   ]
  },
  {
   "cell_type": "markdown",
   "metadata": {},
   "source": [
    "#### Matriz de Confusão\n"
   ]
  },
  {
   "cell_type": "code",
   "execution_count": 127,
   "metadata": {},
   "outputs": [
    {
     "data": {
      "text/plain": [
       "Text(0.5, 1.0, 'Confusion Matrix = RandomForestClassifier')"
      ]
     },
     "execution_count": 127,
     "metadata": {},
     "output_type": "execute_result"
    },
    {
     "data": {
      "image/png": "[encoded data removed]",
      "text/plain": [
       "<Figure size 432x288 with 2 Axes>"
      ]
     },
     "metadata": {
      "needs_background": "light"
     },
     "output_type": "display_data"
    }
   ],
   "source": [
    "cnf_matrix_rfc = confusion_matrix(y_test, scores_rfc['predict_values']) / len(X_test)\n",
    "\n",
    "sns.heatmap(cnf_matrix_rfc, annot=True, annot_kws={\"size\": 16}, fmt='.2%')\n",
    "plt.xlabel('Prediction')\n",
    "plt.ylabel('Real')\n",
    "plt.title('Confusion Matrix = RandomForestClassifier')"
   ]
  },
  {
   "cell_type": "markdown",
   "metadata": {},
   "source": [
    "#### Calculo da curva ROC e da área sob a curva ROC"
   ]
  },
  {
   "cell_type": "code",
   "execution_count": 128,
   "metadata": {},
   "outputs": [],
   "source": [
    "scores_gbc = pd.DataFrame(columns=[\"true_values\", \"predict_values\", \"scores\"])\n",
    "\n",
    "scores_gbc['true_values'] = y_test\n",
    "scores_gbc['predict_values'] = gbc_model.predict(X_test)\n",
    "scores_gbc[\"scores\"] = [x[1] for x in gbc_model.predict_proba(X_test)]\n",
    "\n",
    "fpr_gbc, tpr_gbc, thresholds_gbc = roc_curve(y_test, scores_gbc['scores'].values)\n",
    "\n",
    "auc_score_gbc = roc_auc_score(y_test, scores_gbc['scores'].values)\n"
   ]
  },
  {
   "cell_type": "markdown",
   "metadata": {},
   "source": [
    "#### Matriz de Confusão"
   ]
  },
  {
   "cell_type": "code",
   "execution_count": 126,
   "metadata": {},
   "outputs": [
    {
     "data": {
      "text/plain": [
       "Text(0.5, 1.0, 'Confusion Matrix = GradientBoostingClassifier')"
      ]
     },
     "execution_count": 126,
     "metadata": {},
     "output_type": "execute_result"
    },
    {
     "data": {
      "image/png": "[encoded data removed]",
      "text/plain": [
       "<Figure size 432x288 with 2 Axes>"
      ]
     },
     "metadata": {
      "needs_background": "light"
     },
     "output_type": "display_data"
    }
   ],
   "source": [
    "cnf_matrix_gbc = confusion_matrix(y_test, scores_gbc['predict_values']) / len(X_test)\n",
    "\n",
    "sns.heatmap(cnf_matrix_gbc, annot=True, annot_kws={\"size\": 16}, fmt='.2%')\n",
    "plt.xlabel('Prediction')\n",
    "plt.ylabel('Real')\n",
    "plt.title('Confusion Matrix = GradientBoostingClassifier')"
   ]
  },
  {
   "cell_type": "markdown",
   "metadata": {},
   "source": [
    "### Multilayer Perceptron Classifier"
   ]
  },
  {
   "cell_type": "code",
   "execution_count": 6,
   "metadata": {},
   "outputs": [
    {
     "name": "stdout",
     "output_type": "stream",
     "text": [
      "Accuracy: 0.91 (+/- 0.01)\n"
     ]
    }
   ],
   "source": [
    "from sklearn.neural_network import MLPClassifier\n",
    "\n",
    "mlpc_model = MLPClassifier().fit(X_train, y_train)\n",
    "\n",
    "scores = cross_val_score(gbc_model, X_test, y_test, cv=5)\n",
    "print(\"Accuracy: %0.2f (+/- %0.2f)\" % (scores.mean(), scores.std() * 2))"
   ]
  },
  {
   "cell_type": "code",
   "execution_count": 27,
   "metadata": {},
   "outputs": [
    {
     "data": {
      "text/plain": [
       "Text(0.5, 0, 'Probability')"
      ]
     },
     "execution_count": 27,
     "metadata": {},
     "output_type": "execute_result"
    },
    {
     "data": {
      "image/png": "[encoded data removed]",
      "text/plain": [
       "<Figure size 432x288 with 1 Axes>"
      ]
     },
     "metadata": {
      "needs_background": "light"
     },
     "output_type": "display_data"
    }
   ],
   "source": [
    "predict_prob = pd.DataFrame(mlpc_model.predict_proba(X_test.values))\n",
    "\n",
    "predict_prob.iloc[:, 1].hist(bins=100)\n",
    "plt.title(\"Distribuction of Probabilities of Class=1 - MLPC_Model\")\n",
    "plt.ylabel(\"Count\")\n",
    "plt.xlabel(\"Probability\")"
   ]
  },
  {
   "cell_type": "markdown",
   "metadata": {},
   "source": [
    "#### Calculo da curva ROC e da área sob a curva ROC\n"
   ]
  },
  {
   "cell_type": "code",
   "execution_count": 124,
   "metadata": {},
   "outputs": [],
   "source": [
    "scores_mlpc = pd.DataFrame(columns=[\"true_values\", \"predict_values\", \"scores\"])\n",
    "\n",
    "scores_mlpc['true_values'] = y_test\n",
    "scores_mlpc['predict_values'] = mlpc_model.predict(X_test)\n",
    "scores_mlpc[\"scores\"] = [x[1] for x in mlpc_model.predict_proba(X_test)]\n",
    "\n",
    "fpr_mlpc, tpr_mlpc, thresholds_mlpc = roc_curve(y_test, scores_mlpc['scores'].values)\n",
    "\n",
    "auc_score_mlpc = roc_auc_score(y_test, scores_mlpc['scores'].values)"
   ]
  },
  {
   "cell_type": "markdown",
   "metadata": {},
   "source": [
    "#### Matriz de Confusão"
   ]
  },
  {
   "cell_type": "code",
   "execution_count": 125,
   "metadata": {},
   "outputs": [
    {
     "data": {
      "text/plain": [
       "Text(0.5, 1.0, 'Confusion Matrix = MLPClassifier')"
      ]
     },
     "execution_count": 125,
     "metadata": {},
     "output_type": "execute_result"
    },
    {
     "data": {
      "image/png": "[encoded data removed]",
      "text/plain": [
       "<Figure size 432x288 with 2 Axes>"
      ]
     },
     "metadata": {
      "needs_background": "light"
     },
     "output_type": "display_data"
    }
   ],
   "source": [
    "cnf_matrix_mlpc = confusion_matrix(y_test, scores_mlpc['predict_values']) / len(X_test)\n",
    "\n",
    "sns.heatmap(cnf_matrix_mlpc, annot=True, annot_kws={\"size\": 16}, fmt='.2%')\n",
    "plt.xlabel('Prediction')\n",
    "plt.ylabel('Real')\n",
    "plt.title('Confusion Matrix = MLPClassifier')"
   ]
  },
  {
   "cell_type": "markdown",
   "metadata": {},
   "source": [
    "## Curva ROC"
   ]
  },
  {
   "cell_type": "code",
   "execution_count": 106,
   "metadata": {},
   "outputs": [
    {
     "data": {
      "text/plain": [
       "Text(0.5, 0, 'False Positive Rate (Acuracy)')"
      ]
     },
     "execution_count": 106,
     "metadata": {},
     "output_type": "execute_result"
    },
    {
     "data": {
      "image/png": "[encoded data removed]",
      "text/plain": [
       "<Figure size 432x288 with 1 Axes>"
      ]
     },
     "metadata": {
      "needs_background": "light"
     },
     "output_type": "display_data"
    }
   ],
   "source": [
    "plt.plot(fpr_rfc, tpr_rfc, label=\"rfc_model\")\n",
    "plt.plot(fpr_gbc, tpr_gbc, label=\"gbc_model\")\n",
    "plt.plot(fpr_mlpc, tpr_mlpc, label=\"mlpc_model\")\n",
    "plt.plot([0, 1], [0, 1], linestyle='--', lw=2, color='r',\n",
    "         label='Chance', alpha=.8)\n",
    "plt.legend()\n",
    "plt.title(\"Roc Curve\")\n",
    "plt.ylabel(\"True Positive Rate (Sensibility)\")\n",
    "plt.xlabel(\"False Positive Rate (Acuracy)\")"
   ]
  },
  {
   "cell_type": "markdown",
   "metadata": {},
   "source": [
    "Da análise da Curva ROC, o classificador baseado em *GradientBoost* apresentou o melhor comportamento - ou seja, foi o classificador cujo sua curva ROC mostrou-se mais distante da linha diagonal, que representa um classificador \"ao acaso\" (com 50% de chance de acertividade).\n",
    "\n",
    "Isso pode ser visualizado pela área da curva ROC, uma vez que este classificador deverá apresentar a maior área. "
   ]
  },
  {
   "cell_type": "code",
   "execution_count": 114,
   "metadata": {
    "scrolled": false
   },
   "outputs": [
    {
     "name": "stdout",
     "output_type": "stream",
     "text": [
      "AUC metric for RandomForestClassifier:  0.8754451731734422\n",
      "AUC metric for GradientBoostingClassifier:  0.9087702208300792\n",
      "AUC metric for MLPClassifier:  0.8846236315337179\n"
     ]
    }
   ],
   "source": [
    "print(\"AUC metric for RandomForestClassifier: \", auc_score_rfc)\n",
    "print(\"AUC metric for GradientBoostingClassifier: \", auc_score_gbc)\n",
    "print(\"AUC metric for MLPClassifier: \", auc_score_mlpc)"
   ]
  },
  {
   "cell_type": "markdown",
   "metadata": {},
   "source": [
    "## Escolha dos Hiperparametros do Modelo\n",
    "\n",
    "Após encontrar o melhor modelo para o problema proposto, vamos selecionar os melhores parametros para o modelo, afim de torna-lo o mais acurado quanto for possível. \n",
    "\n",
    "Para isso, utilizamos a biblioteca `RandomizedSearchCV`, que realiza uma busca aleatória entre os parâmetros configurados de modo otimizado, utilizando-se do erro da simulação de um conjunto de parâmentros para ajustar a próxima simulação. "
   ]
  },
  {
   "cell_type": "code",
   "execution_count": 141,
   "metadata": {},
   "outputs": [
    {
     "name": "stdout",
     "output_type": "stream",
     "text": [
      "Best parameters found:\n",
      " {'n_estimators': 150, 'max_features': 'auto', 'loss': 'deviance', 'learning_rate': 0.05}\n",
      "0.964 (+/-0.024) for {'n_estimators': 150, 'max_features': 'auto', 'loss': 'deviance', 'learning_rate': 0.05}\n",
      "0.949 (+/-0.005) for {'n_estimators': 100, 'max_features': 100, 'loss': 'exponential', 'learning_rate': 0.01}\n",
      "0.933 (+/-0.135) for {'n_estimators': 100, 'max_features': 50, 'loss': 'exponential', 'learning_rate': 0.5}\n",
      "0.954 (+/-0.006) for {'n_estimators': 200, 'max_features': 'auto', 'loss': 'exponential', 'learning_rate': 0.01}\n",
      "0.937 (+/-0.119) for {'n_estimators': 200, 'max_features': 'auto', 'loss': 'deviance', 'learning_rate': 0.1}\n",
      "0.943 (+/-0.103) for {'n_estimators': 50, 'max_features': 50, 'loss': 'deviance', 'learning_rate': 0.5}\n",
      "0.962 (+/-0.016) for {'n_estimators': 10, 'max_features': 'auto', 'loss': 'deviance', 'learning_rate': 0.5}\n",
      "0.957 (+/-0.004) for {'n_estimators': 200, 'max_features': 'auto', 'loss': 'deviance', 'learning_rate': 0.01}\n",
      "0.964 (+/-0.012) for {'n_estimators': 10, 'max_features': 'auto', 'loss': 'exponential', 'learning_rate': 0.5}\n",
      "0.953 (+/-0.069) for {'n_estimators': 150, 'max_features': 100, 'loss': 'deviance', 'learning_rate': 0.1}\n"
     ]
    }
   ],
   "source": [
    "from sklearn.model_selection import RandomizedSearchCV\n",
    "from sklearn.ensemble import GradientBoostingClassifier\n",
    "\n",
    "model = GradientBoostingClassifier()\n",
    "\n",
    "parameters = {\n",
    "    'loss': ['deviance', 'exponential'],\n",
    "    'learning_rate': [0.01, 0.05, 0.1, 0.5],\n",
    "    'n_estimators': [10, 30, 50, 100, 150, 200],\n",
    "    'max_features': [50, 100, 'auto'],\n",
    "}\n",
    "\n",
    "clf = RandomizedSearchCV(model, parameters, n_jobs=-1, cv=3)\n",
    "clf.fit(X_train, y_train)\n",
    "\n",
    "print('Best parameters found:\\n', clf.best_params_)\n",
    "\n",
    "means = clf.cv_results_['mean_test_score']\n",
    "stds = clf.cv_results_['std_test_score']\n",
    "for mean, std, params in zip(means, stds, clf.cv_results_['params']):\n",
    "    print(\"%0.3f (+/-%0.03f) for %r\" % (mean, std * 2, params))"
   ]
  },
  {
   "cell_type": "markdown",
   "metadata": {},
   "source": [
    "Assim, o melhor conjunto de parametros a ser utilizado no modelo foi:\n",
    "\n",
    "```\n",
    "{\n",
    "    'n_estimators': 100,\n",
    "    'max_features': 50,\n",
    "    'loss': 'exponential',\n",
    "    'learning_rate': 0.05\n",
    "}\n",
    "```\n",
    "\n",
    "Apresentando uma acurácia de `96,5%`."
   ]
  },
  {
   "cell_type": "markdown",
   "metadata": {},
   "source": [
    "## Outros Detalhes\n",
    "\n",
    "### Tratamento de Outliers\n",
    "\n",
    "Para cada característica numérica, foram excluídos valores que superam a média em mais que três desvios padrões. \n",
    "\n",
    "### Tratamento de Dados Categóricos\n",
    "\n",
    "Foi realizado um *encoding* de variáveis categóricas para uma representação binária. Cara categoria foi transcrita para um número binário. Para variáveis que apresentam um número elevado de categorias (como `city`), esse processo mostra-se mais robusto contra o problema de dimensionalidade do que outros, tal como o método `one-hot encoding`. \n",
    "\n",
    "### Geração de novas características a partir de relações\n",
    "\n",
    "Foi utilizado o pacote `sklearn.preprocessing.PolynomialFeatures` para gerar relações polinomiais de até segunda ordem entre as características numéricas. Isso contribui para que os algorítimos de machine learning encontrem mais facilmente relações secundárias, não lineares, entre as características.\n",
    "\n",
    "### Seleção das melhores features para o modelo\n",
    "\n",
    "Durante o pipeline de treinamento, as características disponíveis são avaliadas segundo sua importância, que é determinada pelo valor F da análise de variância (F-Value of ANOVA). \n",
    "\n",
    "O nome das variáveis e sua importância são exportadas para serem utilizadas no processo de treinamento. "
   ]
  },
  {
   "cell_type": "code",
   "execution_count": null,
   "metadata": {},
   "outputs": [],
   "source": []
  }
 ],
 "metadata": {
  "hide_input": false,
  "kernelspec": {
   "display_name": "default_env_3.7.1",
   "language": "python",
   "name": "default_env_3.7.1"
  },
  "language_info": {
   "codemirror_mode": {
    "name": "ipython",
    "version": 3
   },
   "file_extension": ".py",
   "mimetype": "text/x-python",
   "name": "python",
   "nbconvert_exporter": "python",
   "pygments_lexer": "ipython3",
   "version": "3.7.1"
  },
  "toc": {
   "base_numbering": 1,
   "nav_menu": {},
   "number_sections": true,
   "sideBar": true,
   "skip_h1_title": true,
   "title_cell": "Table of Contents",
   "title_sidebar": "Contents",
   "toc_cell": true,
   "toc_position": {},
   "toc_section_display": true,
   "toc_window_display": false
  },
  "varInspector": {
   "cols": {
    "lenName": 16,
    "lenType": 16,
    "lenVar": 40
   },
   "kernels_config": {
    "python": {
     "delete_cmd_postfix": "",
     "delete_cmd_prefix": "del ",
     "library": "var_list.py",
     "varRefreshCmd": "print(var_dic_list())"
    },
    "r": {
     "delete_cmd_postfix": ") ",
     "delete_cmd_prefix": "rm(",
     "library": "var_list.r",
     "varRefreshCmd": "cat(var_dic_list()) "
    }
   },
   "types_to_exclude": [
    "module",
    "function",
    "builtin_function_or_method",
    "instance",
    "_Feature"
   ],
   "window_display": false
  }
 },
 "nbformat": 4,
 "nbformat_minor": 2
}
